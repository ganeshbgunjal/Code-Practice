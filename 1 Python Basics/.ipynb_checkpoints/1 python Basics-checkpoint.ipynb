{
 "cells": [
  {
   "cell_type": "markdown",
   "id": "c7365f6c-56aa-4391-b236-d86b1a391f35",
   "metadata": {},
   "source": [
    "### Print Statement"
   ]
  },
  {
   "cell_type": "code",
   "execution_count": 1,
   "id": "453c8c50-c3a6-434a-b21d-bbb15bba29ac",
   "metadata": {},
   "outputs": [
    {
     "name": "stdout",
     "output_type": "stream",
     "text": [
      "Hello Python World\n"
     ]
    }
   ],
   "source": [
    "print('Hello Python World')"
   ]
  },
  {
   "cell_type": "code",
   "execution_count": 2,
   "id": "4bbce65e-756b-4182-96b5-dd85029a5f67",
   "metadata": {},
   "outputs": [
    {
     "name": "stdout",
     "output_type": "stream",
     "text": [
      "Hello Python World\n"
     ]
    }
   ],
   "source": [
    "print(f'Hello Python World')   #another approach of printing"
   ]
  },
  {
   "cell_type": "code",
   "execution_count": null,
   "id": "6377d514-816c-4459-9fcf-36ab63907eb0",
   "metadata": {},
   "outputs": [],
   "source": []
  }
 ],
 "metadata": {
  "kernelspec": {
   "display_name": "Python 3 (ipykernel)",
   "language": "python",
   "name": "python3"
  },
  "language_info": {
   "codemirror_mode": {
    "name": "ipython",
    "version": 3
   },
   "file_extension": ".py",
   "mimetype": "text/x-python",
   "name": "python",
   "nbconvert_exporter": "python",
   "pygments_lexer": "ipython3",
   "version": "3.12.7"
  }
 },
 "nbformat": 4,
 "nbformat_minor": 5
}
